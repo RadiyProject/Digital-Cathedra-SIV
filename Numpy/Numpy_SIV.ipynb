{
  "cells": [
    {
      "attachments": {},
      "cell_type": "markdown",
      "metadata": {
        "id": "jWUQZ7olS4Ts"
      },
      "source": [
        "## Задания"
      ]
    },
    {
      "attachments": {},
      "cell_type": "markdown",
      "metadata": {
        "id": "d97xcXfZTIea"
      },
      "source": [
        "**Задача 1.**\n",
        "\n",
        "Даны четыре действительных числа: x1, y1, x2, y2. Напишите функцию distance(x1, y1, x2, y2), вычисляющая евклидово расстояние ( https://ru.wikipedia.org/wiki/%D0%95%D0%B2%D0%BA%D0%BB%D0%B8%D0%B4%D0%BE%D0%B2%D0%B0_%D0%BC%D0%B5%D1%82%D1%80%D0%B8%D0%BA%D0%B0 ) между точкой (x1,y1) и (x2,y2)."
      ]
    },
    {
      "cell_type": "code",
      "execution_count": 2,
      "metadata": {
        "id": "FwoN8YrfS8S9"
      },
      "outputs": [
        {
          "name": "stdout",
          "output_type": "stream",
          "text": [
            "4.242640687119285\n"
          ]
        }
      ],
      "source": [
        "from numpy import sqrt\n",
        "import numpy as np\n",
        "def distance(x1, y1, x2, y2):\n",
        "    result = sqrt((x1 - x2)**2 + (y1 - y2)**2)\n",
        "    return result\n",
        "\n",
        "print(distance(1, 1, 4, 4))"
      ]
    },
    {
      "attachments": {},
      "cell_type": "markdown",
      "metadata": {
        "id": "04v60qczU_fi"
      },
      "source": [
        "**Задача 2.**\n",
        "\n",
        "Написать функцию season(month), принимающую 1 аргумент — номер месяца (от 1 до 12), которая присваивает глобальной переменной s время года, которому этот месяц принадлежит (зима, весна, лето или осень)."
      ]
    },
    {
      "cell_type": "code",
      "execution_count": null,
      "metadata": {
        "id": "j56j5EvKWsy1"
      },
      "outputs": [
        {
          "name": "stdout",
          "output_type": "stream",
          "text": [
            "\n",
            "winter\n"
          ]
        }
      ],
      "source": [
        "s = \"\"\n",
        "def season(month):\n",
        "    global s\n",
        "    if month >= 1 and month < 3 or month == 12:\n",
        "        s = \"winter\"\n",
        "    elif month >= 3 and month < 6:\n",
        "        s = \"spring\"\n",
        "    elif month >= 6 and month < 9:\n",
        "        s = \"summer\"\n",
        "    else:\n",
        "        s = \"autumn\"\n",
        "\n",
        "print(s)\n",
        "season(5)\n",
        "print(s)"
      ]
    },
    {
      "attachments": {},
      "cell_type": "markdown",
      "metadata": {
        "id": "Xo4YtE9XWwJ-"
      },
      "source": [
        "**Задача 3.**\n",
        "\n",
        "Написать функцию is_prime, принимающую 1 аргумент — число от 0 до 1000, и возвращающую True, если оно простое, и False - иначе."
      ]
    },
    {
      "cell_type": "code",
      "execution_count": 27,
      "metadata": {
        "id": "JaI9rY6cW0YA"
      },
      "outputs": [
        {
          "name": "stdout",
          "output_type": "stream",
          "text": [
            "False\n"
          ]
        }
      ],
      "source": [
        "def is_prime(n):\n",
        "    for i in range(2, int(np.ceil(sqrt(n)))):\n",
        "        if (n % i == 0):\n",
        "            return False\n",
        "    return True    \n",
        "\n",
        "print (is_prime(24))"
      ]
    },
    {
      "attachments": {},
      "cell_type": "markdown",
      "metadata": {
        "id": "siBlTugkX5Il"
      },
      "source": [
        "**Задача 4.**\n",
        "\n",
        "Написать функцию reverse_list(lst), которая принимает в качестве аргумента список и возвращаем его в перевернутом виде.\n",
        "\n",
        "Например,\n",
        "- исходный список:  8, 1, 0, 4\n",
        "- полученный список: 4, 0, 1, 8\n",
        "\n",
        "Использовать встроенные функции Python нельзя. "
      ]
    },
    {
      "cell_type": "code",
      "execution_count": 32,
      "metadata": {
        "id": "6YqPaxokYT1_"
      },
      "outputs": [
        {
          "name": "stdout",
          "output_type": "stream",
          "text": [
            "[4, 0, 1, 8]\n"
          ]
        }
      ],
      "source": [
        "def reverse_list(lst):\n",
        "    result = []\n",
        "    for i in range (counter(lst), 0, -1):\n",
        "        result.append(lst[i - 1])\n",
        "    return result\n",
        "\n",
        "def counter(lst):\n",
        "    result = 0\n",
        "    for item in lst:\n",
        "        result += 1\n",
        "    return result\n",
        "\n",
        "print(reverse_list([8, 1, 0, 4]))"
      ]
    },
    {
      "attachments": {},
      "cell_type": "markdown",
      "metadata": {
        "id": "4UUcGbHWr3wn"
      },
      "source": [
        "**Задача 5.**\n",
        "\n",
        "Распечатайте с 4 по 8 символ фразы \"Привет мир!\" приведенные к верхнему регистру."
      ]
    },
    {
      "cell_type": "code",
      "execution_count": 35,
      "metadata": {
        "id": "ICMD_GzvsETR"
      },
      "outputs": [
        {
          "name": "stdout",
          "output_type": "stream",
          "text": [
            "['В', 'Е', 'Т', ' ', 'М']\n"
          ]
        }
      ],
      "source": [
        "phrase = \"Привет мир!\"\n",
        "start = 4\n",
        "end = 8\n",
        "result = []\n",
        "for i in range(start - 1, end):\n",
        "    result.append(phrase[i].upper())\n",
        "\n",
        "print (result)"
      ]
    },
    {
      "attachments": {},
      "cell_type": "markdown",
      "metadata": {
        "id": "Ei25f1pVsQLt"
      },
      "source": [
        "**Задача 6.**\n",
        "\n",
        "Напишите код, который все элементы массива x с нечетными индексами переставит в обратном порядке.\n",
        "\n",
        "Т.е. если x = [0, 1, 2, 3, 4, 5, 6, 7, 8, 9], то код должен получать [0, 9, 2, 7, 4, 5, 6, 3, 8, 1]"
      ]
    },
    {
      "cell_type": "code",
      "execution_count": 36,
      "metadata": {
        "id": "o93nN1cJsXNy"
      },
      "outputs": [
        {
          "name": "stdout",
          "output_type": "stream",
          "text": [
            "[0, 9, 2, 7, 4, 5, 6, 3, 8, 1]\n"
          ]
        }
      ],
      "source": [
        "x = [0, 1, 2, 3, 4, 5, 6, 7, 8, 9]\n",
        "for i in range (1, int(len(x) / 2), 2):\n",
        "    temp = x[i]\n",
        "    x[i] = x[len(x) - i]\n",
        "    x[len(x) - i] = temp\n",
        "\n",
        "print(x)"
      ]
    },
    {
      "attachments": {},
      "cell_type": "markdown",
      "metadata": {
        "id": "-qcaQystsXYY"
      },
      "source": [
        "**Задача 7.**\n",
        "\n",
        "Напишите цикл, который выводит все числа от 0 до 500, делящиеся на 7, если в них есть цифра 8."
      ]
    },
    {
      "cell_type": "code",
      "execution_count": 37,
      "metadata": {
        "id": "5-d0zkldsuvr"
      },
      "outputs": [
        {
          "name": "stdout",
          "output_type": "stream",
          "text": [
            "28\n",
            "84\n",
            "98\n",
            "168\n",
            "182\n",
            "189\n",
            "238\n",
            "280\n",
            "287\n",
            "308\n",
            "378\n",
            "385\n",
            "448\n",
            "483\n"
          ]
        }
      ],
      "source": [
        "for i in range(0, 500, 7):\n",
        "    div10 = int(i / 10)\n",
        "    div100 = int(div10 / 10)\n",
        "    if (i > 10 and i < 100):\n",
        "        if(i % 10 == 8 or div10 % 10 == 8):\n",
        "            print(i)\n",
        "    elif(i > 100):\n",
        "        if(i % 10 == 8 or div10 % 10 == 8 or div100 % 10 == 8):\n",
        "            print(i)\n"
      ]
    },
    {
      "attachments": {},
      "cell_type": "markdown",
      "metadata": {
        "id": "CTWMY6f9su7P"
      },
      "source": [
        "**Задача 8.**\n",
        "\n",
        "На вход функция more_than_five(lst) получает список из целых чисел. \n",
        "Результатом работы функции должен стать новый список, в котором содержатся только те числа, которые больше 10 по модулю."
      ]
    },
    {
      "cell_type": "code",
      "execution_count": 1,
      "metadata": {
        "id": "ChE1X9wvtMzQ"
      },
      "outputs": [
        {
          "name": "stdout",
          "output_type": "stream",
          "text": [
            "[-11, 11, 22]\n"
          ]
        }
      ],
      "source": [
        "def more_than_five(lst):\n",
        "    result = []\n",
        "    for i in range(0, len(lst)):\n",
        "        if (abs(lst[i]) > 10):\n",
        "            result.append(lst[i])\n",
        "    \n",
        "    return result\n",
        "\n",
        "print(more_than_five([1, 2, 3, 4, 5, 6, 7, 8, 9, -11, 10, 11, 1, 2, 3, 22]))"
      ]
    },
    {
      "attachments": {},
      "cell_type": "markdown",
      "metadata": {
        "id": "vTu7Ibz2CesK"
      },
      "source": [
        "# Задания"
      ]
    },
    {
      "attachments": {},
      "cell_type": "markdown",
      "metadata": {
        "id": "EobX-nHRDeT5"
      },
      "source": [
        "**Задача 1.**\n",
        "\n",
        "Создать матрицу размером `10х10` с 0 внутри, и 1 на границах. Например для `3х3`.\n",
        "\n",
        "```\n",
        "1 1 1\n",
        "1 0 1\n",
        "1 1 1\n",
        "```"
      ]
    },
    {
      "cell_type": "code",
      "execution_count": 9,
      "metadata": {
        "id": "MGvbhlGHCiJR"
      },
      "outputs": [
        {
          "name": "stdout",
          "output_type": "stream",
          "text": [
            "[[1. 1. 1. 1. 1. 1. 1. 1. 1. 1.]\n",
            " [1. 0. 0. 0. 0. 0. 0. 0. 0. 1.]\n",
            " [1. 0. 0. 0. 0. 0. 0. 0. 0. 1.]\n",
            " [1. 0. 0. 0. 0. 0. 0. 0. 0. 1.]\n",
            " [1. 0. 0. 0. 0. 0. 0. 0. 0. 1.]\n",
            " [1. 0. 0. 0. 0. 0. 0. 0. 0. 1.]\n",
            " [1. 0. 0. 0. 0. 0. 0. 0. 0. 1.]\n",
            " [1. 0. 0. 0. 0. 0. 0. 0. 0. 1.]\n",
            " [1. 0. 0. 0. 0. 0. 0. 0. 0. 1.]\n",
            " [1. 1. 1. 1. 1. 1. 1. 1. 1. 1.]]\n"
          ]
        }
      ],
      "source": [
        "length = 10\n",
        "matrix = np.zeros((length, length))\n",
        "for i in range(0, length):\n",
        "    matrix[0, i] = 1\n",
        "    matrix[i, 0] = 1\n",
        "    matrix[length - 1, i] = 1\n",
        "    matrix[i, length - 1] = 1\n",
        "\n",
        "print(matrix)"
      ]
    },
    {
      "attachments": {},
      "cell_type": "markdown",
      "metadata": {
        "id": "vnY0gsMOD45W"
      },
      "source": [
        "**Задача 2.**\n",
        "\n",
        "Создать 5x5 матрицу с 1,2,3,4 над диагональю. Все остальные элементы - 0."
      ]
    },
    {
      "cell_type": "code",
      "execution_count": 11,
      "metadata": {
        "id": "tnKHSJApEY4w"
      },
      "outputs": [
        {
          "name": "stdout",
          "output_type": "stream",
          "text": [
            "[[0. 1. 0. 0. 0.]\n",
            " [0. 0. 2. 0. 0.]\n",
            " [0. 0. 0. 3. 0.]\n",
            " [0. 0. 0. 0. 4.]\n",
            " [0. 0. 0. 0. 0.]]\n"
          ]
        }
      ],
      "source": [
        "length = 5\n",
        "matrix = np.zeros((length, length))\n",
        "for i in range(1, length):\n",
        "    matrix[i - 1, i] = i\n",
        "\n",
        "print(matrix)"
      ]
    },
    {
      "attachments": {},
      "cell_type": "markdown",
      "metadata": {
        "id": "7R26cYEXEsWb"
      },
      "source": [
        "**Задача 3.**\n",
        "\n",
        "Создайте случайную матрицу и вычтите из каждой строки среднее."
      ]
    },
    {
      "cell_type": "code",
      "execution_count": 24,
      "metadata": {
        "id": "eNDIKZPrUbZG"
      },
      "outputs": [
        {
          "name": "stdout",
          "output_type": "stream",
          "text": [
            "[[ 8 14 13 12 12]\n",
            " [ 3 10 12 15  5]\n",
            " [15 17 15  7  6]\n",
            " [ 8  7  3 10 13]\n",
            " [16  4  3  5 11]]\n",
            "11\n",
            "9\n",
            "12\n",
            "8\n",
            "7\n",
            "[[-3  3  2  1  1]\n",
            " [-6  1  3  6 -4]\n",
            " [ 3  5  3 -5 -6]\n",
            " [ 0 -1 -5  2  5]\n",
            " [ 9 -3 -4 -2  4]]\n"
          ]
        }
      ],
      "source": [
        "length = 5\n",
        "matrix = np.random.randint(20, size=(length, length))\n",
        "print(matrix)\n",
        "for i in range(0, matrix.shape[0]):\n",
        "    mean = int(np.mean(matrix[i, :]))\n",
        "    print(mean)\n",
        "    matrix[i, :] -= mean\n",
        "\n",
        "print(matrix)"
      ]
    },
    {
      "attachments": {},
      "cell_type": "markdown",
      "metadata": {
        "id": "CzAqzs7ClCSn"
      },
      "source": [
        "**Задача 4.**\n",
        "\n",
        "Написать функцию, принимающую на вход массив и меняющую знак у элементов, значения которых между 3 и 8. Протестировать на нескольких заданных вами массивах."
      ]
    },
    {
      "cell_type": "code",
      "execution_count": 29,
      "metadata": {
        "id": "63Ki9lyulzec"
      },
      "outputs": [
        {
          "name": "stdout",
          "output_type": "stream",
          "text": [
            "[[ 3  8 -5  2  1 -7]\n",
            " [-5  2 22 -6 -4 -7]]\n"
          ]
        }
      ],
      "source": [
        "def signChange(array):\n",
        "    array[np.logical_and(array > 3, array < 8)] *= -1\n",
        "    return array\n",
        "\n",
        "print(signChange(np.array([[3, 8, 5, 2, 1, 7], [5, 2, 22, 6, 4, 7]], int)))"
      ]
    },
    {
      "attachments": {},
      "cell_type": "markdown",
      "metadata": {
        "id": "ha_XRvz7l9rx"
      },
      "source": [
        "**Задача 4.**\n",
        "\n",
        "Написать функцию, принимающую на вход массив и вычитающую среднее из каждой строки в матрице. Протестировать на нескольких заданных вами примерах."
      ]
    },
    {
      "cell_type": "code",
      "execution_count": 31,
      "metadata": {
        "id": "9nkzwep7mB5h"
      },
      "outputs": [
        {
          "name": "stdout",
          "output_type": "stream",
          "text": [
            "4\n",
            "7\n",
            "[[-1  4  1 -2 -3  3]\n",
            " [-2 -5 15 -1 -3  0]]\n"
          ]
        }
      ],
      "source": [
        "def subtractMean(array):\n",
        "    for i in range(0, array.shape[0]):\n",
        "        mean = int(np.mean(array[i, :]))\n",
        "        print(mean)\n",
        "        array[i, :] -= mean\n",
        "    return array\n",
        "\n",
        "print(subtractMean(np.array([[3, 8, 5, 2, 1, 7], [5, 2, 22, 6, 4, 7]], int)))"
      ]
    },
    {
      "attachments": {},
      "cell_type": "markdown",
      "metadata": {
        "id": "MJJ33mtstr-a"
      },
      "source": [
        "**Задача 5.**\n",
        "\n",
        "Дан вектор [1, 2, 3, 4, 5], построить новый вектор с тремя нулями между каждым значением."
      ]
    },
    {
      "cell_type": "code",
      "execution_count": 37,
      "metadata": {
        "id": "UZLtKFY80D6f"
      },
      "outputs": [
        {
          "name": "stdout",
          "output_type": "stream",
          "text": [
            "[1 0 0 0 2 0 0 0 3 0 0 0 4 0 0 0 5]\n"
          ]
        }
      ],
      "source": [
        "vector = np.array([1, 2, 3, 4, 5], int)\n",
        "result = np.array([], int)\n",
        "for i in range(0, vector.shape[0]):\n",
        "    if (i < vector.shape[0] - 1):\n",
        "        result = np.append(result, [vector[i], 0, 0, 0])\n",
        "    else:\n",
        "        result = np.append(result, [vector[i]])\n",
        "\n",
        "print(result)"
      ]
    },
    {
      "attachments": {},
      "cell_type": "markdown",
      "metadata": {
        "id": "KU7g7UVs0EDr"
      },
      "source": [
        "**Задача 6.**\n",
        "\n",
        "\n",
        "Написать функцию, принимающую на вход матрицу MxN и меняющую 2 любые строки в матрице. Протестировать на нескольких заданных вами примерах."
      ]
    },
    {
      "cell_type": "code",
      "execution_count": 61,
      "metadata": {
        "id": "xMzdfDFuKwFw"
      },
      "outputs": [
        {
          "name": "stdout",
          "output_type": "stream",
          "text": [
            "[[ 1  2  3]\n",
            " [10 11 12]\n",
            " [ 7  8  9]\n",
            " [ 4  5  6]]\n"
          ]
        }
      ],
      "source": [
        "from random import randint\n",
        "\n",
        "def changeRowsRand(matrix):\n",
        "    row1 = randint(0, matrix.shape[0] - 1)\n",
        "    row2 = randint(0, matrix.shape[0] - 1)\n",
        "    temp = np.copy(matrix[row1, :])\n",
        "    matrix[row1, :] = matrix[row2, :]\n",
        "    matrix[row2, :] = temp\n",
        "    return matrix\n",
        "\n",
        "print(changeRowsRand(np.array([[1, 2, 3], [4, 5, 6], [7, 8, 9], [10, 11, 12]], int)))"
      ]
    },
    {
      "attachments": {},
      "cell_type": "markdown",
      "metadata": {
        "id": "Kiva3bYH0Z9S"
      },
      "source": [
        "**Задача 7.**\n",
        "\n",
        "\n",
        "Написать функцию, принимающую на вход одномерный массив и возвращающую наиболее частое значение в массиве и частоту его встречи. Протестировать на нескольких заданных вами примерах."
      ]
    },
    {
      "cell_type": "code",
      "execution_count": 64,
      "metadata": {},
      "outputs": [
        {
          "name": "stdout",
          "output_type": "stream",
          "text": [
            "7\n"
          ]
        }
      ],
      "source": [
        "def mostFrequent(array):\n",
        "    bins = np.bincount(array)\n",
        "    return np.argmax(bins)\n",
        "\n",
        "print(mostFrequent([1, 5, 20, 4, 2, 2, 7, 7, 3, 7, 5, 6]))"
      ]
    },
    {
      "attachments": {},
      "cell_type": "markdown",
      "metadata": {
        "id": "CA6upOsg0vuY"
      },
      "source": [
        "**Задача 8.** \n",
        "\n",
        "Написать функцию, принимающую на вход  массив 16x16 и считающую сумму по блокам 4x4. Протестировать на нескольких заданных вами примерах."
      ]
    },
    {
      "cell_type": "code",
      "execution_count": 71,
      "metadata": {
        "id": "biNnN0Gb056o"
      },
      "outputs": [
        {
          "name": "stdout",
          "output_type": "stream",
          "text": [
            "[58, 144, 148, 212, 58, 144, 148, 212, 58, 144, 148, 212, 58, 144, 148, 212]\n"
          ]
        }
      ],
      "source": [
        "step = 4\n",
        "\n",
        "def calcQuad(array):\n",
        "    sums = []\n",
        "    for i in range(0, array.shape[0], step):\n",
        "        for k in range(0, array.shape[1], step):\n",
        "            sums.append(np.sum(array[i:(i + step), k:(k + step)]))\n",
        "    return sums\n",
        "\n",
        "print(calcQuad(np.array([[1, 2, 3, 4, 5, 6, 7, 8, 9, 10, 11, 12, 13, 14, 15, 16],\n",
        "                         [5, 4, 2, 8, 10, 6, 7, 23, 9, 10, 11, 2, 13, 14, 5, 16],\n",
        "                         [1, 2, 3, 4, 5, 6, 7, 8, 9, 10, 11, 12, 13, 14, 15, 16],\n",
        "                         [5, 4, 2, 8, 10, 6, 7, 23, 9, 10, 11, 2, 13, 14, 5, 16],\n",
        "                         [1, 2, 3, 4, 5, 6, 7, 8, 9, 10, 11, 12, 13, 14, 15, 16],\n",
        "                         [5, 4, 2, 8, 10, 6, 7, 23, 9, 10, 11, 2, 13, 14, 5, 16],\n",
        "                         [1, 2, 3, 4, 5, 6, 7, 8, 9, 10, 11, 12, 13, 14, 15, 16],\n",
        "                         [5, 4, 2, 8, 10, 6, 7, 23, 9, 10, 11, 2, 13, 14, 5, 16],\n",
        "                         [1, 2, 3, 4, 5, 6, 7, 8, 9, 10, 11, 12, 13, 14, 15, 16],\n",
        "                         [5, 4, 2, 8, 10, 6, 7, 23, 9, 10, 11, 2, 13, 14, 5, 16],\n",
        "                         [1, 2, 3, 4, 5, 6, 7, 8, 9, 10, 11, 12, 13, 14, 15, 16],\n",
        "                         [5, 4, 2, 8, 10, 6, 7, 23, 9, 10, 11, 2, 13, 14, 5, 16],\n",
        "                         [1, 2, 3, 4, 5, 6, 7, 8, 9, 10, 11, 12, 13, 14, 15, 16],\n",
        "                         [5, 4, 2, 8, 10, 6, 7, 23, 9, 10, 11, 2, 13, 14, 5, 16],\n",
        "                         [1, 2, 3, 4, 5, 6, 7, 8, 9, 10, 11, 12, 13, 14, 15, 16],\n",
        "                         [5, 4, 2, 8, 10, 6, 7, 23, 9, 10, 11, 2, 13, 14, 5, 16]], int)))"
      ]
    },
    {
      "attachments": {},
      "cell_type": "markdown",
      "metadata": {
        "id": "a5jYWrLl06BY"
      },
      "source": [
        "**Задача 9.**\n",
        "\n",
        "Написать функцию, принимающую на вход матрицу и возвращающую n наибольших значений в массиве. n вводится с клавиатуры. Протестировать на нескольких заданных вами примерах."
      ]
    },
    {
      "cell_type": "code",
      "execution_count": 3,
      "metadata": {
        "id": "WflOzZRy1BRy"
      },
      "outputs": [
        {
          "name": "stdout",
          "output_type": "stream",
          "text": [
            "5 наибольших чисел массива: \n",
            "[8, 6, 3, 2, 2]\n"
          ]
        }
      ],
      "source": [
        "array = np.array([[1, 2, 6], [2, 8, 3]], int)\n",
        "\n",
        "def biggestNumbers(n):\n",
        "    temp = np.reshape(array, (array.shape[0] * array.shape[1]))\n",
        "\n",
        "    if n >= temp.shape[0]:\n",
        "        return None\n",
        "\n",
        "    temp = np.sort(temp)\n",
        "    result = []\n",
        "    for i in range(temp.shape[0] - 1, temp.shape[0] - 1 - n, -1):\n",
        "        result.append(temp[i])\n",
        "    return result\n",
        "\n",
        "n = (int)(input(\"Введите желаемое число наибольших значений массива: \"))\n",
        "print(str(n) + \" наибольших чисел массива: \")\n",
        "print(biggestNumbers(n))"
      ]
    },
    {
      "attachments": {},
      "cell_type": "markdown",
      "metadata": {
        "id": "UbB8AuQA1BY0"
      },
      "source": [
        "**Задача 10.**\n",
        "\n",
        "Написать функцию, принимающую на вход 10x3 матрица и находящую строки из неравных значений (например [2,2,3]). Протестировать на нескольких заданных вами примерах."
      ]
    },
    {
      "cell_type": "code",
      "execution_count": 5,
      "metadata": {
        "id": "YOKf8gMB1JCS"
      },
      "outputs": [
        {
          "name": "stdout",
          "output_type": "stream",
          "text": [
            "[array([2, 3, 2]), array([6, 1, 2]), array([ 0, -1,  2])]\n"
          ]
        }
      ],
      "source": [
        "def findRows(matrix):\n",
        "    result = []\n",
        "    for i in range(0, matrix.shape[0]):\n",
        "        if matrix[i, 0] != np.mean(matrix[i, :]):\n",
        "            result.append(matrix[i, :])\n",
        "    return result\n",
        "\n",
        "print(findRows(np.array([[1, 1, 1], [2, 3, 2], [4, 4, 4], [5, 5, 5], [6, 1, 2], [0, -1, 2]], int)))"
      ]
    },
    {
      "attachments": {},
      "cell_type": "markdown",
      "metadata": {
        "id": "kDOcG70_1JJi"
      },
      "source": [
        "**Задача 11.**\n",
        "\n",
        "Написать функцию, принимающую на вход двумерный массив и находящую все различные строки. Протестировать на нескольких заданных вами примерах."
      ]
    },
    {
      "cell_type": "code",
      "execution_count": 8,
      "metadata": {
        "id": "Z370pCG41mUU"
      },
      "outputs": [
        {
          "name": "stdout",
          "output_type": "stream",
          "text": [
            "[[1 2 3 4]\n",
            " [2 5 3 1]\n",
            " [7 2 3 1]]\n"
          ]
        }
      ],
      "source": [
        "def filter(array):\n",
        "    return np.unique(array, axis=0)\n",
        "\n",
        "print(filter(np.array([[7, 2, 3, 1], [1, 2, 3, 4], [2, 5, 3, 1], [1, 2, 3, 4], [7, 2, 3, 1]], int)))"
      ]
    },
    {
      "attachments": {},
      "cell_type": "markdown",
      "metadata": {
        "id": "xLnW1uIL1mc_"
      },
      "source": [
        "**Задача 12.**\n",
        "\n",
        "Написать функцию, принимающую на вход два вектора одинакого размера и считающую расстояние между векторами. Протестировать на нескольких заданных вами примерах."
      ]
    },
    {
      "cell_type": "code",
      "execution_count": 10,
      "metadata": {
        "id": "yYu-Qco323yW"
      },
      "outputs": [
        {
          "name": "stdout",
          "output_type": "stream",
          "text": [
            "1.0\n"
          ]
        }
      ],
      "source": [
        "def distance(vec1, vec2):\n",
        "    result = 0\n",
        "    for i in range(0, vec1.shape[0]):\n",
        "        result += (vec1[i] - vec2[i])**2\n",
        "    result = np.sqrt(result)\n",
        "    return result\n",
        "\n",
        "print(distance(np.array([1, 2, 3], float), np.array([2, 2, 3], float)))"
      ]
    },
    {
      "attachments": {},
      "cell_type": "markdown",
      "metadata": {
        "id": "jcl3nZ-Y236p"
      },
      "source": [
        "**Задача 13.**\n",
        "\n",
        "Написать функцию, принимающую на вход два вектора одинакого размера и находящую косинус угла между векторами. Протестировать на нескольких заданных вами примерах."
      ]
    },
    {
      "cell_type": "code",
      "execution_count": 12,
      "metadata": {
        "id": "GjM3s2YN3NEY"
      },
      "outputs": [
        {
          "name": "stdout",
          "output_type": "stream",
          "text": [
            "0.9333333333333333\n"
          ]
        }
      ],
      "source": [
        "def cos(vec1, vec2):\n",
        "    return np.dot(vec1, vec2) / (np.linalg.norm(vec1) * np.linalg.norm(vec2))\n",
        "\n",
        "print(cos(np.array([3, -4, 0], float), np.array([4, -4, -2], float)))"
      ]
    },
    {
      "attachments": {},
      "cell_type": "markdown",
      "metadata": {
        "id": "NOGrxa9o3WLZ"
      },
      "source": [
        "**Задача 14.**\n",
        "\n",
        "Написать функцию, принимающую на вход вектор A содержит float числа как больше, так и меньше нуля.\n",
        "\n",
        "Функция должна округлить их до целых и результат записать в глобальную переменную Z. Округление должно быть \"от нуля\", т.е.:\n",
        "\n",
        "- положительные числа округляем всегда вверх до целого\n",
        "- отрицательные числа округляем всегда вниз до целого\n",
        "- 0 остаётся 0\n",
        "\n",
        " Протестировать на нескольких заданных вами примерах.\n"
      ]
    },
    {
      "cell_type": "code",
      "execution_count": 14,
      "metadata": {
        "id": "x-RztsfF37Yt"
      },
      "outputs": [
        {
          "name": "stdout",
          "output_type": "stream",
          "text": [
            "[-1.0, 1.0, 0.0]\n"
          ]
        }
      ],
      "source": [
        "def round(vec):\n",
        "    result = []\n",
        "    for i in range(0, vec.shape[0]):\n",
        "        if vec[i] >= 0:\n",
        "            result.append(np.ceil(vec[i]))\n",
        "        else:\n",
        "            result.append(np.floor(vec[i]))\n",
        "    return result\n",
        "\n",
        "print(round(np.array([-0.2, 0.1, 0], float)))"
      ]
    },
    {
      "attachments": {},
      "cell_type": "markdown",
      "metadata": {
        "id": "6V2Z2SNX37jT"
      },
      "source": [
        "**Задача 15.**\n",
        "\n",
        "Написать функцию, принимающую на вход 2 вектора целых чисел A и B.\n",
        "\n",
        "Функция должна находить числа, встречающиеся в обоих векторах и добавлять их по возрастанию в глобальную переменную - вектор Z.\n",
        "\n",
        "*Если пересечений нет, то вектор Z будет пустым*.\n",
        "\n",
        " Протестировать на нескольких заданных вами примерах."
      ]
    },
    {
      "cell_type": "code",
      "execution_count": 19,
      "metadata": {
        "id": "ThxIR2zN4PFr"
      },
      "outputs": [
        {
          "name": "stdout",
          "output_type": "stream",
          "text": [
            "[1 4]\n"
          ]
        }
      ],
      "source": [
        "Z = []\n",
        "\n",
        "def sortNums(A, B):\n",
        "    global Z\n",
        "    Z = np.intersect1d(A, B)\n",
        "\n",
        "sortNums(np.array([4, 1, 5, 2], int), np.array([1, 4, 3, 1], int))\n",
        "print(Z)"
      ]
    },
    {
      "attachments": {},
      "cell_type": "markdown",
      "metadata": {
        "id": "GeUr4BbI433N"
      },
      "source": [
        "**Задача 16.**\n",
        "\n",
        "Написать функцию, принимающую на вход вектор и возвращающую максимальный элемент в векторе среди элементов, перед которыми стоит 0. \n",
        "\n",
        "Например для:\n",
        "\n",
        "`x = np.array([6, 2, 0, 3, 0, 0, 5, 7, 0])`\n",
        "\n",
        "Ответ:\n",
        "5"
      ]
    },
    {
      "cell_type": "code",
      "execution_count": 21,
      "metadata": {
        "id": "TVHVE4RB50Ti"
      },
      "outputs": [
        {
          "name": "stdout",
          "output_type": "stream",
          "text": [
            "5\n"
          ]
        }
      ],
      "source": [
        "def max(vec):\n",
        "    temp = np.array([], int)\n",
        "    for i in range(1, vec.shape[0]):\n",
        "        if vec[i - 1] == 0:\n",
        "            temp = np.append(temp, vec[i])\n",
        "    return temp[np.argmax(temp)]\n",
        "\n",
        "print(max(np.array([6, 2, 0, 3, 0, 0, 5, 7, 0], int)))"
      ]
    },
    {
      "attachments": {},
      "cell_type": "markdown",
      "metadata": {
        "id": "3w6cbF5m438U"
      },
      "source": [
        "**Задача 17.**\n",
        "\n",
        "Написать функцию, принимающую на вход матрицу 5х3 и считающую длину каждого вектора в матрице (строка) и ищущую самый длинный вектор, вернуть его координаты и длину.\n",
        "\n",
        "Как выглядит матрица:\n",
        "\n",
        "```   \n",
        "     | x | y | z |\n",
        "     | 1 | 2 | 3 |\n",
        "     | 3 | 4 | 1 |\n",
        "     | ...       |\n",
        "```"
      ]
    },
    {
      "cell_type": "code",
      "execution_count": 22,
      "metadata": {},
      "outputs": [
        {
          "name": "stdout",
          "output_type": "stream",
          "text": [
            "(array([2., 8., 7.]), 10.816653826391969)\n"
          ]
        }
      ],
      "source": [
        "def biggestLength(matrix): \n",
        "    length = 0\n",
        "    index = -1\n",
        "    for i in range(0, matrix.shape[0]):\n",
        "        lngth = np.linalg.norm(matrix[i, :])\n",
        "        if lngth > length:\n",
        "            length = lngth\n",
        "            index = i\n",
        "    return (matrix[index, :], length)\n",
        "\n",
        "print(biggestLength(np.array([[1, 3, 5], [2, 8, 7], [3, 5, 9]], float)))"
      ]
    }
  ],
  "metadata": {
    "colab": {
      "collapsed_sections": [
        "xq5kwdSxKnJI"
      ],
      "provenance": []
    },
    "kernelspec": {
      "display_name": "Python 3.10.4 64-bit",
      "language": "python",
      "name": "python3"
    },
    "language_info": {
      "codemirror_mode": {
        "name": "ipython",
        "version": 3
      },
      "file_extension": ".py",
      "mimetype": "text/x-python",
      "name": "python",
      "nbconvert_exporter": "python",
      "pygments_lexer": "ipython3",
      "version": "3.10.5"
    },
    "vscode": {
      "interpreter": {
        "hash": "df89a35c3dacc890248c9eaf1af78674261a72605dca20e1e0ec28f2b99ee593"
      }
    }
  },
  "nbformat": 4,
  "nbformat_minor": 0
}
